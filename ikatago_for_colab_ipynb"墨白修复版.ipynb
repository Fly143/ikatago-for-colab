{
  "nbformat": 4,
  "nbformat_minor": 0,
  "metadata": {
    "colab": {
      "private_outputs": true,
      "provenance": [],
      "include_colab_link": true
    },
    "kernelspec": {
      "name": "python3",
      "display_name": "Python 3"
    },
    "accelerator": "GPU"
  },
  "cells": [
    {
      "cell_type": "markdown",
      "metadata": {
        "id": "view-in-github",
        "colab_type": "text"
      },
      "source": [
        "<a href=\"https://colab.research.google.com/github/Fly143/ikatago-for-colab/blob/main/ikatago_for_colab_ipynb%22%E5%A2%A8%E7%99%BD%E4%BF%AE%E5%A4%8D%E7%89%88.ipynb\" target=\"_parent\"><img src=\"https://colab.research.google.com/assets/colab-badge.svg\" alt=\"Open In Colab\"/></a>"
      ]
    },
    {
      "cell_type": "markdown",
      "source": [
        "# 如何运行？\n",
        "1). 点击安装代码里的运行单元格,安装完成后进行下一步.  \n",
        "2). 修改运行代码里的USER_NAME, USER_PASSWORD, 点击运行单元格即可.  \n",
        "3). 点这里下载ikatago客户端 (1.6.0版本):  \n",
        "https://github.com/kinfkong/ikatago-client/releases/tag/v1.6.0\n",
        "\n",
        "ikatago连接参数样例:\n",
        "```\n",
        "ikatago.exe --platform colab --username xxxxx --password xxxxx\n",
        "```\n",
        "username及password要改成你自己的值.\n",
        "\n"
      ],
      "metadata": {
        "id": "-wE27vD-sKn3"
      }
    },
    {
      "cell_type": "markdown",
      "source": [
        "human权重对弈方法\n",
        "\n",
        "ikatago.exe --platform colab --username xxxxx --password xxxxx --kata-config human5k --kata-override-config humanSLProfile=preaz_5k -- gtp -human-model /content/work/data/weights/human.bin.gz\n",
        "\n",
        "建议k级用human5k，d级用human9d，把--kata-config human5k改为--kata-config human9d\n",
        "\n",
        "humanSLProfile=preaz_5k为可选参数，用于指定棋力，更改风格等\n",
        "可用选项包括：\n",
        "- preaz_{RANK from 20k to 9d}：模仿特定段位的玩家，在AlphaZero开局风格流行之前的风格。\n",
        "- rank_{RANK from 20k to 9d}：模仿特定段位的玩家，在人类开局因AlphaZero影响而变化之后的风格。\n",
        "- preaz_{BRANK}_{WRANK} 或 rank_{BRANK}_{WRANK}：同上，但分别模仿黑方为BR段和白方为WR段的玩家对弈时的行为，考虑到对手的实力较强或较弱。\n",
        "警告：对于段位差异大于9段的情况，或者与游戏中使用的让子数严重不匹配的情况下，由于缺乏训练数据，模型的表现可能不佳！请谨慎实验。\n",
        "- proyear_{YEAR from 1800 to 2023}：模仿特定年份的历史职业棋手或院生的风格。\n",
        "\n",
        "### 更多用法可以看下面FAQ部分"
      ],
      "metadata": {
        "id": "n1KHyP1M-0x2"
      }
    },
    {
      "cell_type": "markdown",
      "source": [
        "# 安装"
      ],
      "metadata": {
        "id": "uS794TXfjh9R"
      }
    },
    {
      "cell_type": "code",
      "metadata": {
        "id": "nPaa2KJt8Kyn"
      },
      "source": [
        "# Optional Args\n",
        "# Supports: 18b, 20b, 28b，40b, 60b, (或b60, b40...除28b外，其余需要指定权重)\n",
        "# Notes:\n",
        "# 1. 选择 28b 会自动使用elo最强的权重\n",
        "# 2. 如果要指定kata1权重，写: 60b578, 40b1110 18b583 或 b60s578, b40s1110, kata1-b60-s578\n",
        "#   换言之，只要是kata1的权重，格式很灵活，随便写都可以\n",
        "#   指定需要加载的权重请在ikatago命令行添加例如: --kata-weight 40b （不加默认使用28b)\n",
        "WEIGHT_FILE=\"28b\"\n",
        "# Supports:CUDA, TRT\n",
        "# Notes:\n",
        "# 1. 指定需要加载的引擎请在ikatago命令行添加例如: --kata-name katago-TENSORRT (不加默使用你选择的)\n",
        "#   但注意TENSORRT后端需要安装依赖，要使用请至少 WEIGHT_FILE=\"ALL\" 或 KATAGO_BACKEND=\"TRT\" 有其中一个\n",
        "# 2. Colab上分配的卡跑KataGO, CUDA 和 TENSORRT 相比较，TENSORRT提升约10%-20%，CUDA加载更快\n",
        "# 3.TENSORRT引擎。加载初始化大概需要1~2分钟！cuda的话十几秒！\n",
        "KATAGO_BACKEND=\"CUDA\"\n",
        "\n",
        "%cd /content\n",
        "\n",
        "# install\n",
        "!wget -q https://github.com/Fly143/ikatago-for-colab/releases/download/1.14.1/libssl1.1_1.1.1f-1ubuntu2.17_amd64.deb -O libssl1.1_1.1.1f-1ubuntu2.17_amd64.deb\n",
        "!dpkg -i libssl1.1_1.1.1f-1ubuntu2.17_amd64.deb\n",
        "!wget -q https://github.com/Fly143/ikatago-for-colab/releases/download/1.15.3/install.sh -O install.sh\n",
        "!chmod +x ./install.sh\n",
        "!./install.sh $WEIGHT_FILE $KATAGO_BACKEND\n",
        "%cd /content/work/data/weights\n",
        "!wget -q https://github.com/lightvector/KataGo/releases/download/v1.15.0/b18c384nbt-humanv0.bin.gz -O human.bin.gz\n",
        "\n",
        "### 根据kinfkong大佬脚本修改 ###"
      ],
      "execution_count": null,
      "outputs": []
    },
    {
      "cell_type": "markdown",
      "source": [
        "# 运行"
      ],
      "metadata": {
        "id": "_uXH78zgkrvz"
      }
    },
    {
      "cell_type": "code",
      "source": [
        "# Notes: 请自行修改用户名和密码\n",
        "USER_NAME=\"qwert\"\n",
        "USER_PASSWORD=\"12345678\"\n",
        "\n",
        "FRPC=\"\"\"\n",
        "### YOUR FRPC CONTENT ###\n",
        "\n",
        "[common]\n",
        "tls_enable = true\n",
        "server_addr = {{ .Envs.KNAT_SERVER_ADDR }}\n",
        "server_port = {{ .Envs.KNAT_SERVER_PORT }}\n",
        "token = {{ .Envs.KNAT_SERVER_TOKEN }}\n",
        "\n",
        "[kinfkong-ssh]\n",
        "type = tcp\n",
        "local_ip = 127.0.0.1\n",
        "local_port = 2222\n",
        "remote_port = 0\n",
        "\n",
        "### END YOUR FRPC CONTENT ###\n",
        "\"\"\"\n",
        "\n",
        "%cd /content/work\n",
        "\n",
        "# change the frp\n",
        "!echo \"\"\"$FRPC\"\"\" > config/frpc.txt\n",
        "!chmod +x ./change-frpc.sh\n",
        "!./change-frpc.sh $USER_NAME\n",
        "\n",
        "# run the server\n",
        "!chmod +x ./run.sh\n",
        "!./run.sh $USER_NAME $USER_PASSWORD\n",
        "\n",
        "### 根据kinfkong大佬脚本修改 ###"
      ],
      "metadata": {
        "id": "lVN8w-NBjteN"
      },
      "execution_count": null,
      "outputs": []
    },
    {
      "cell_type": "markdown",
      "metadata": {
        "id": "i3oAEbSrsFOW"
      },
      "source": [
        "# FAQ\n",
        "\n",
        "### 1. 如何换frp （非必需，但换到合适的frp会更快)\n",
        "1). 在第三方frp提供商，比如https://natfrp.com  中创建TCP隧道  \n",
        "2). 隧道设为本地ip 127.0.0.1, 本地端口: 2222  \n",
        "3). 找到frp提供商给你的配置文件，复制  \n",
        "4). 粘贴在下面代码的 `### YOUR FRPC CONTENT ###` 与 `### END YOUR FRPC CONTENT  ###` 之间即可。\n",
        "\n",
        "### 2. 如何用Sabaki, Lizzie等客户端连接colab上的katago?\n",
        "\n",
        "#### Lizzie用法\n",
        "```\n",
        "<ikatago程序路径> --platform colab --username <你设置的用户名> --password <你设置的密码>\n",
        "```\n",
        "比如，Windows下可能是这样子:\n",
        "```\n",
        "C:\\xxx\\ikatago.exe --platform colab --username xxxxx --password xxxxx\n",
        "```\n",
        "\n",
        "#### Sabaki的用法\n",
        "有三行，  \n",
        "第一行: 引擎名字，随便起一个名字  \n",
        "第二行: 程序路径，就是ikatago在你本机的路径，比如, C:\\xxx\\ikatago.exe  \n",
        "第三行: 运行参数: --platform colab --username <你设置的用户名>   --password <你设置的密码>\n",
        "\n",
        "### 3. 如何用SSH连接？\n",
        "建议使用ikatago客户端进行连接，不建议直接用ssh. 但用ssh也是可以的。  \n",
        "上面的代码运行后，输出里，你可以找到:  \n",
        "SSH_HOST ssh主机  \n",
        "SSH_PORT ssh端口  \n",
        "ssh用户名就是你设定的用户名  \n",
        "ssh密码就是你设定的密码  \n",
        "ssh运行命令是\"run-katago\"\n",
        "\n",
        "### 4. 如何修改katago配置文件？\n",
        "你可以通过ikatago客户端，通过`--kata-local-config`来指定你自己本机上的配置文件，比如:\n",
        "\n",
        "```\n",
        "ikatago.exe --kata-local-config C:\\xxx.cfg --username xxx ...\n",
        "```\n",
        "\n",
        "### 5. 如何使用colab内置配置文件?\n",
        "你可以通过ikatago客户端，通过`--kata-config`来指定colab上内置的配置文件，比如:\n",
        "\n",
        "```\n",
        "ikatago.exe --kata-config dynamic_pda --username xxx ...\n",
        "```\n",
        "目前colab上内置了如下的配置文件: (感谢@LK @BionicMed 等群友的整理)\n",
        "```\n",
        "default_gtp  dynamic_pda  2stones_handicap  3stones_handicap  4stones_handicap  5stones_handicap  6stones_handicap  7+stones_handicap  \n",
        "```\n",
        "**注: 请自行注要区别`--kata-config`与`--kata-local-config`的联系与区别。如果两个同时指定，优先用kata-local-config\n",
        "\n",
        "\n",
        "### 6. 如何运行katago benchmark, genconfig等命令 (高级用法，一般人可以忽略)\n",
        "\n",
        "ikatago客户端（要升级到1.3.1或以上)，支持所有katago的子命令，把整条原来katago的命令copy到最后，然后用\"--\"隔开就行\n",
        "比如，运行benchmark:\n",
        "\n",
        "```\n",
        "ikatago.exe --kata-local-config C:\\xxx.cfg --kata-weight 20b -- benchmark -v xx -t x,x...(v指visits，以5000为宜，t指线程数，后填需测试的线程数用逗号隔开。\n",
        "```\n",
        "再比如gtp\n",
        "```\n",
        "ikatago.exe --kata-local-config C:\\xxx.cfg --kata-weight 20b -- gtp -override-config maxVisits=1000\n",
        "```\n",
        "**注: 原来的子命令里如果有\"-model\"或\"-config\"参数的，你也可以照常指定，不指定的话，就分别会用`--kata-weight`、`--kata-config`(或`--kata-local-config`)里的。\n",
        "\n",
        "### 7. 为什么分析时选点最多就20个?\n",
        "因为为了大量降低数据传输量，Lizzie等软件，默认也是只显示前10个，所以不影响体验。如果要增加显示选点的个数（或不限制），可以:  \n",
        "    \"--transmit-move-num 10\" 这样子来修改.  \n",
        "    \"--transmit-move-num 0\" 表示不限制.\n"
      ]
    },
    {
      "cell_type": "markdown",
      "metadata": {
        "id": "X1Wx4EZbOkS7"
      },
      "source": [
        "# 以下的都是调试用的代码，普通用户可以忽略下面的所有内容"
      ]
    },
    {
      "cell_type": "markdown",
      "metadata": {
        "id": "YUrfBH3MPBz4"
      },
      "source": [
        "显示GPU类型"
      ]
    },
    {
      "cell_type": "code",
      "metadata": {
        "id": "LMabHvkwOsTl"
      },
      "source": [
        "!nvidia-smi"
      ],
      "execution_count": null,
      "outputs": []
    }
  ]
}